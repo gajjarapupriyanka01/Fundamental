{
  "nbformat": 4,
  "nbformat_minor": 0,
  "metadata": {
    "colab": {
      "provenance": [],
      "authorship_tag": "ABX9TyO0UWRHfrjgzfdu2FZ1yZrA",
      "include_colab_link": true
    },
    "kernelspec": {
      "name": "python3",
      "display_name": "Python 3"
    },
    "language_info": {
      "name": "python"
    }
  },
  "cells": [
    {
      "cell_type": "markdown",
      "metadata": {
        "id": "view-in-github",
        "colab_type": "text"
      },
      "source": [
        "<a href=\"https://colab.research.google.com/github/gajjarapupriyanka01/Fundamental/blob/main/Practice.ipynb\" target=\"_parent\"><img src=\"https://colab.research.google.com/assets/colab-badge.svg\" alt=\"Open In Colab\"/></a>"
      ]
    },
    {
      "cell_type": "code",
      "execution_count": 2,
      "metadata": {
        "colab": {
          "base_uri": "https://localhost:8080/"
        },
        "id": "QH-d1L2IR9tZ",
        "outputId": "4904e8b2-a0f5-4c8f-b9c8-c0c2f8c7eeb0"
      },
      "outputs": [
        {
          "output_type": "stream",
          "name": "stdout",
          "text": [
            "Deep is   sweet\n"
          ]
        }
      ],
      "source": [
        "#Accessing global Variables\n",
        "\n",
        "x=\"sweet\"\n",
        "\n",
        "def myfunc():\n",
        "  print(\"Deep is   \"+x);\n",
        "\n",
        "myfunc();\n"
      ]
    },
    {
      "cell_type": "code",
      "source": [
        "#If you use the global keyword, the variable belongs to the global scope\n",
        "def myfunc():\n",
        "  global x;\n",
        "  x=\"fantastic\"\n",
        "\n",
        "myfunc()\n",
        "\n",
        "print(\"Python is \"+x)\n",
        "\n"
      ],
      "metadata": {
        "colab": {
          "base_uri": "https://localhost:8080/"
        },
        "id": "cpbjdILGS8lU",
        "outputId": "245c5a44-a813-4ac8-ac21-cbbe3c4e665e"
      },
      "execution_count": 4,
      "outputs": [
        {
          "output_type": "stream",
          "name": "stdout",
          "text": [
            "Python is fantastic\n"
          ]
        }
      ]
    },
    {
      "cell_type": "code",
      "source": [],
      "metadata": {
        "id": "k7SaiLcgUhUS"
      },
      "execution_count": null,
      "outputs": []
    }
  ]
}